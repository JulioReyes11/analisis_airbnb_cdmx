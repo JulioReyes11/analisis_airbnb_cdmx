{
 "cells": [
  {
   "cell_type": "markdown",
   "id": "4582b3dc",
   "metadata": {},
   "source": [
    "## Proyecto 1: Análisis de datos Airbnb de la Ciudad de México\n",
    "### Preparación de datos\n",
    "\n",
    "### Meta:\n",
    "- Explorar los archivos de datos y crear un conjunto de datos para su posterior análisis.\n",
    "\n",
    "### Contexto:\n",
    "Para este proyecto se usaron los datos del sitio **Insideairbnb** de fecha 22 de marzo de 2021 para la Ciudad de México, se utilizaron los archivos Listing.csv y reviews.csv.\n",
    "\n",
    "---\n",
    "### Paso 1: Preparar entorno de trabajo.\n"
   ]
  },
  {
   "cell_type": "code",
   "execution_count": 1,
   "id": "3c7cf262",
   "metadata": {},
   "outputs": [
    {
     "name": "stdout",
     "output_type": "stream",
     "text": [
      "27-06-21\n"
     ]
    }
   ],
   "source": [
    "# Importar bibibliotecas necesarias\n",
    "import pandas as pd \n",
    "import numpy as np\n",
    "import seaborn as sns\n",
    "import matplotlib.pyplot as plt\n",
    "from pathlib import Path\n",
    "sns.set(style=\"whitegrid\")\n",
    "from datetime import datetime as dt\n",
    "hoy = dt.today().strftime(\"%d-%m-%y\")\n",
    "print(hoy)"
   ]
  },
  {
   "cell_type": "markdown",
   "id": "547aecf7",
   "metadata": {},
   "source": [
    "### Paso 2: Cargar y explorar los datos"
   ]
  },
  {
   "cell_type": "code",
   "execution_count": 2,
   "id": "59351630",
   "metadata": {},
   "outputs": [
    {
     "data": {
      "text/plain": [
       "(20021, 16)"
      ]
     },
     "execution_count": 2,
     "metadata": {},
     "output_type": "execute_result"
    }
   ],
   "source": [
    "# Cargar datos y obtner tamaño del dataset\n",
    "listings = pd.read_csv('../datos/listings_22_marzo_2021.csv')\n",
    "listings.shape"
   ]
  },
  {
   "cell_type": "code",
   "execution_count": 3,
   "id": "07c9836d",
   "metadata": {},
   "outputs": [
    {
     "data": {
      "text/html": [
       "<div>\n",
       "<style scoped>\n",
       "    .dataframe tbody tr th:only-of-type {\n",
       "        vertical-align: middle;\n",
       "    }\n",
       "\n",
       "    .dataframe tbody tr th {\n",
       "        vertical-align: top;\n",
       "    }\n",
       "\n",
       "    .dataframe thead th {\n",
       "        text-align: right;\n",
       "    }\n",
       "</style>\n",
       "<table border=\"1\" class=\"dataframe\">\n",
       "  <thead>\n",
       "    <tr style=\"text-align: right;\">\n",
       "      <th></th>\n",
       "      <th>id</th>\n",
       "      <th>name</th>\n",
       "      <th>host_id</th>\n",
       "      <th>host_name</th>\n",
       "      <th>neighbourhood_group</th>\n",
       "      <th>neighbourhood</th>\n",
       "      <th>latitude</th>\n",
       "      <th>longitude</th>\n",
       "      <th>room_type</th>\n",
       "      <th>price</th>\n",
       "      <th>minimum_nights</th>\n",
       "      <th>number_of_reviews</th>\n",
       "      <th>last_review</th>\n",
       "      <th>reviews_per_month</th>\n",
       "      <th>calculated_host_listings_count</th>\n",
       "      <th>availability_365</th>\n",
       "    </tr>\n",
       "  </thead>\n",
       "  <tbody>\n",
       "    <tr>\n",
       "      <th>0</th>\n",
       "      <td>35797</td>\n",
       "      <td>Villa Dante</td>\n",
       "      <td>153786</td>\n",
       "      <td>Dici</td>\n",
       "      <td>NaN</td>\n",
       "      <td>Cuajimalpa de Morelos</td>\n",
       "      <td>19.38399</td>\n",
       "      <td>-99.27335</td>\n",
       "      <td>Entire home/apt</td>\n",
       "      <td>4116</td>\n",
       "      <td>1</td>\n",
       "      <td>0</td>\n",
       "      <td>NaN</td>\n",
       "      <td>NaN</td>\n",
       "      <td>1</td>\n",
       "      <td>363</td>\n",
       "    </tr>\n",
       "    <tr>\n",
       "      <th>1</th>\n",
       "      <td>44616</td>\n",
       "      <td>CONDESA HAUS  B&amp;B</td>\n",
       "      <td>196253</td>\n",
       "      <td>Condesa Haus Bed &amp; Breakfast  CDMX</td>\n",
       "      <td>NaN</td>\n",
       "      <td>Cuauhtémoc</td>\n",
       "      <td>19.41006</td>\n",
       "      <td>-99.17645</td>\n",
       "      <td>Entire home/apt</td>\n",
       "      <td>9000</td>\n",
       "      <td>1</td>\n",
       "      <td>49</td>\n",
       "      <td>2020-10-25</td>\n",
       "      <td>0.43</td>\n",
       "      <td>10</td>\n",
       "      <td>360</td>\n",
       "    </tr>\n",
       "    <tr>\n",
       "      <th>2</th>\n",
       "      <td>56074</td>\n",
       "      <td>Great space in historical San Rafael</td>\n",
       "      <td>265650</td>\n",
       "      <td>Maris</td>\n",
       "      <td>NaN</td>\n",
       "      <td>Cuauhtémoc</td>\n",
       "      <td>19.43977</td>\n",
       "      <td>-99.15605</td>\n",
       "      <td>Entire home/apt</td>\n",
       "      <td>600</td>\n",
       "      <td>4</td>\n",
       "      <td>56</td>\n",
       "      <td>2019-03-01</td>\n",
       "      <td>0.46</td>\n",
       "      <td>2</td>\n",
       "      <td>365</td>\n",
       "    </tr>\n",
       "    <tr>\n",
       "      <th>3</th>\n",
       "      <td>58955</td>\n",
       "      <td>Entire beautiful duplex in la Roma</td>\n",
       "      <td>282620</td>\n",
       "      <td>Laura</td>\n",
       "      <td>NaN</td>\n",
       "      <td>Cuauhtémoc</td>\n",
       "      <td>19.42292</td>\n",
       "      <td>-99.15775</td>\n",
       "      <td>Entire home/apt</td>\n",
       "      <td>1479</td>\n",
       "      <td>15</td>\n",
       "      <td>42</td>\n",
       "      <td>2020-01-31</td>\n",
       "      <td>0.37</td>\n",
       "      <td>1</td>\n",
       "      <td>171</td>\n",
       "    </tr>\n",
       "    <tr>\n",
       "      <th>4</th>\n",
       "      <td>61792</td>\n",
       "      <td>Spacious Clean Quiet room (own bath) in la Con...</td>\n",
       "      <td>299558</td>\n",
       "      <td>Roberto</td>\n",
       "      <td>NaN</td>\n",
       "      <td>Cuauhtémoc</td>\n",
       "      <td>19.41259</td>\n",
       "      <td>-99.17959</td>\n",
       "      <td>Private room</td>\n",
       "      <td>1249</td>\n",
       "      <td>2</td>\n",
       "      <td>52</td>\n",
       "      <td>2019-11-03</td>\n",
       "      <td>1.26</td>\n",
       "      <td>2</td>\n",
       "      <td>180</td>\n",
       "    </tr>\n",
       "  </tbody>\n",
       "</table>\n",
       "</div>"
      ],
      "text/plain": [
       "      id                                               name  host_id  \\\n",
       "0  35797                                        Villa Dante   153786   \n",
       "1  44616                                  CONDESA HAUS  B&B   196253   \n",
       "2  56074               Great space in historical San Rafael   265650   \n",
       "3  58955                 Entire beautiful duplex in la Roma   282620   \n",
       "4  61792  Spacious Clean Quiet room (own bath) in la Con...   299558   \n",
       "\n",
       "                            host_name  neighbourhood_group  \\\n",
       "0                                Dici                  NaN   \n",
       "1  Condesa Haus Bed & Breakfast  CDMX                  NaN   \n",
       "2                               Maris                  NaN   \n",
       "3                               Laura                  NaN   \n",
       "4                             Roberto                  NaN   \n",
       "\n",
       "           neighbourhood  latitude  longitude        room_type  price  \\\n",
       "0  Cuajimalpa de Morelos  19.38399  -99.27335  Entire home/apt   4116   \n",
       "1             Cuauhtémoc  19.41006  -99.17645  Entire home/apt   9000   \n",
       "2             Cuauhtémoc  19.43977  -99.15605  Entire home/apt    600   \n",
       "3             Cuauhtémoc  19.42292  -99.15775  Entire home/apt   1479   \n",
       "4             Cuauhtémoc  19.41259  -99.17959     Private room   1249   \n",
       "\n",
       "   minimum_nights  number_of_reviews last_review  reviews_per_month  \\\n",
       "0               1                  0         NaN                NaN   \n",
       "1               1                 49  2020-10-25               0.43   \n",
       "2               4                 56  2019-03-01               0.46   \n",
       "3              15                 42  2020-01-31               0.37   \n",
       "4               2                 52  2019-11-03               1.26   \n",
       "\n",
       "   calculated_host_listings_count  availability_365  \n",
       "0                               1               363  \n",
       "1                              10               360  \n",
       "2                               2               365  \n",
       "3                               1               171  \n",
       "4                               2               180  "
      ]
     },
     "execution_count": 3,
     "metadata": {},
     "output_type": "execute_result"
    }
   ],
   "source": [
    "# Estructura del dataset\n",
    "listings.head()"
   ]
  },
  {
   "cell_type": "code",
   "execution_count": 5,
   "id": "75ca9fb0",
   "metadata": {},
   "outputs": [
    {
     "data": {
      "text/plain": [
       "id                                  int64\n",
       "name                               object\n",
       "host_id                             int64\n",
       "host_name                          object\n",
       "neighbourhood_group               float64\n",
       "neighbourhood                      object\n",
       "latitude                          float64\n",
       "longitude                         float64\n",
       "room_type                          object\n",
       "price                               int64\n",
       "minimum_nights                      int64\n",
       "number_of_reviews                   int64\n",
       "last_review                        object\n",
       "reviews_per_month                 float64\n",
       "calculated_host_listings_count      int64\n",
       "availability_365                    int64\n",
       "dtype: object"
      ]
     },
     "execution_count": 5,
     "metadata": {},
     "output_type": "execute_result"
    }
   ],
   "source": [
    "# Tipos de datos\n",
    "listings.dtypes"
   ]
  },
  {
   "cell_type": "code",
   "execution_count": 6,
   "id": "d4295fae",
   "metadata": {},
   "outputs": [
    {
     "name": "stdout",
     "output_type": "stream",
     "text": [
      "<class 'pandas.core.frame.DataFrame'>\n",
      "RangeIndex: 20021 entries, 0 to 20020\n",
      "Data columns (total 16 columns):\n",
      " #   Column                          Non-Null Count  Dtype  \n",
      "---  ------                          --------------  -----  \n",
      " 0   id                              20021 non-null  int64  \n",
      " 1   name                            20016 non-null  object \n",
      " 2   host_id                         20021 non-null  int64  \n",
      " 3   host_name                       19347 non-null  object \n",
      " 4   neighbourhood_group             0 non-null      float64\n",
      " 5   neighbourhood                   20021 non-null  object \n",
      " 6   latitude                        20021 non-null  float64\n",
      " 7   longitude                       20021 non-null  float64\n",
      " 8   room_type                       20021 non-null  object \n",
      " 9   price                           20021 non-null  int64  \n",
      " 10  minimum_nights                  20021 non-null  int64  \n",
      " 11  number_of_reviews               20021 non-null  int64  \n",
      " 12  last_review                     14658 non-null  object \n",
      " 13  reviews_per_month               14658 non-null  float64\n",
      " 14  calculated_host_listings_count  20021 non-null  int64  \n",
      " 15  availability_365                20021 non-null  int64  \n",
      "dtypes: float64(4), int64(7), object(5)\n",
      "memory usage: 2.4+ MB\n"
     ]
    }
   ],
   "source": [
    "# más información del dataframe\n",
    "listings.info()"
   ]
  },
  {
   "cell_type": "markdown",
   "id": "b4e6cf47",
   "metadata": {},
   "source": [
    "### Paso 3: Limpiar datos"
   ]
  },
  {
   "cell_type": "code",
   "execution_count": 7,
   "id": "6cca3336",
   "metadata": {},
   "outputs": [
    {
     "data": {
      "text/plain": [
       "id                                    0\n",
       "name                                  5\n",
       "host_id                               0\n",
       "host_name                           674\n",
       "neighbourhood_group               20021\n",
       "neighbourhood                         0\n",
       "latitude                              0\n",
       "longitude                             0\n",
       "room_type                             0\n",
       "price                                 0\n",
       "minimum_nights                        0\n",
       "number_of_reviews                     0\n",
       "last_review                        5363\n",
       "reviews_per_month                  5363\n",
       "calculated_host_listings_count        0\n",
       "availability_365                      0\n",
       "dtype: int64"
      ]
     },
     "execution_count": 7,
     "metadata": {},
     "output_type": "execute_result"
    }
   ],
   "source": [
    "# Obtener valores NaNs\n",
    "listings.isna().sum(axis=0)"
   ]
  },
  {
   "cell_type": "code",
   "execution_count": 8,
   "id": "61fa5b8b",
   "metadata": {},
   "outputs": [],
   "source": [
    "listings.drop(['id', 'neighbourhood_group','last_review'], axis=1, inplace=True)"
   ]
  },
  {
   "cell_type": "markdown",
   "id": "362182cd",
   "metadata": {},
   "source": [
    "Se eliminaron las columnas `id, neighbourhood_group y last_review` no son significativas para nuestro análisis. \n",
    "\n",
    "Las colunma last_review nos dice que para ese mes no hubo revisión para el alojamiento y la columna review_per_month el NaN tomará un valor de 0 que al comparar con la columna number_of_review es cero."
   ]
  },
  {
   "cell_type": "code",
   "execution_count": 9,
   "id": "051f612f",
   "metadata": {},
   "outputs": [
    {
     "data": {
      "text/plain": [
       "0"
      ]
     },
     "execution_count": 9,
     "metadata": {},
     "output_type": "execute_result"
    }
   ],
   "source": [
    "# Reemplazar los valores NaN en la columna reviews_per_month\n",
    "listings.fillna({'reviews_per_month':0}, inplace=True)\n",
    "listings.reviews_per_month.isnull().sum()"
   ]
  },
  {
   "cell_type": "markdown",
   "id": "e3a36b04",
   "metadata": {},
   "source": [
    "### Estadísticas descriptivas "
   ]
  },
  {
   "cell_type": "code",
   "execution_count": 10,
   "id": "162dc641",
   "metadata": {},
   "outputs": [
    {
     "data": {
      "text/html": [
       "<div>\n",
       "<style scoped>\n",
       "    .dataframe tbody tr th:only-of-type {\n",
       "        vertical-align: middle;\n",
       "    }\n",
       "\n",
       "    .dataframe tbody tr th {\n",
       "        vertical-align: top;\n",
       "    }\n",
       "\n",
       "    .dataframe thead th {\n",
       "        text-align: right;\n",
       "    }\n",
       "</style>\n",
       "<table border=\"1\" class=\"dataframe\">\n",
       "  <thead>\n",
       "    <tr style=\"text-align: right;\">\n",
       "      <th></th>\n",
       "      <th>host_id</th>\n",
       "      <th>latitude</th>\n",
       "      <th>longitude</th>\n",
       "      <th>price</th>\n",
       "      <th>minimum_nights</th>\n",
       "      <th>number_of_reviews</th>\n",
       "      <th>reviews_per_month</th>\n",
       "      <th>calculated_host_listings_count</th>\n",
       "      <th>availability_365</th>\n",
       "    </tr>\n",
       "  </thead>\n",
       "  <tbody>\n",
       "    <tr>\n",
       "      <th>count</th>\n",
       "      <td>2.002100e+04</td>\n",
       "      <td>20021.000000</td>\n",
       "      <td>20021.000000</td>\n",
       "      <td>20021.000000</td>\n",
       "      <td>20021.000000</td>\n",
       "      <td>20021.000000</td>\n",
       "      <td>20021.000000</td>\n",
       "      <td>20021.000000</td>\n",
       "      <td>20021.000000</td>\n",
       "    </tr>\n",
       "    <tr>\n",
       "      <th>mean</th>\n",
       "      <td>1.390235e+08</td>\n",
       "      <td>19.398201</td>\n",
       "      <td>-99.167936</td>\n",
       "      <td>1147.452175</td>\n",
       "      <td>4.625144</td>\n",
       "      <td>23.811598</td>\n",
       "      <td>0.891292</td>\n",
       "      <td>6.600619</td>\n",
       "      <td>226.789271</td>\n",
       "    </tr>\n",
       "    <tr>\n",
       "      <th>std</th>\n",
       "      <td>1.104092e+08</td>\n",
       "      <td>0.046853</td>\n",
       "      <td>0.036492</td>\n",
       "      <td>4076.026767</td>\n",
       "      <td>21.944999</td>\n",
       "      <td>44.769904</td>\n",
       "      <td>1.423224</td>\n",
       "      <td>14.996344</td>\n",
       "      <td>137.048840</td>\n",
       "    </tr>\n",
       "    <tr>\n",
       "      <th>min</th>\n",
       "      <td>7.365000e+03</td>\n",
       "      <td>19.167530</td>\n",
       "      <td>-99.340570</td>\n",
       "      <td>0.000000</td>\n",
       "      <td>1.000000</td>\n",
       "      <td>0.000000</td>\n",
       "      <td>0.000000</td>\n",
       "      <td>1.000000</td>\n",
       "      <td>0.000000</td>\n",
       "    </tr>\n",
       "    <tr>\n",
       "      <th>25%</th>\n",
       "      <td>4.292050e+07</td>\n",
       "      <td>19.372270</td>\n",
       "      <td>-99.180600</td>\n",
       "      <td>400.000000</td>\n",
       "      <td>1.000000</td>\n",
       "      <td>0.000000</td>\n",
       "      <td>0.000000</td>\n",
       "      <td>1.000000</td>\n",
       "      <td>89.000000</td>\n",
       "    </tr>\n",
       "    <tr>\n",
       "      <th>50%</th>\n",
       "      <td>1.140239e+08</td>\n",
       "      <td>19.410770</td>\n",
       "      <td>-99.167940</td>\n",
       "      <td>690.000000</td>\n",
       "      <td>2.000000</td>\n",
       "      <td>5.000000</td>\n",
       "      <td>0.330000</td>\n",
       "      <td>2.000000</td>\n",
       "      <td>269.000000</td>\n",
       "    </tr>\n",
       "    <tr>\n",
       "      <th>75%</th>\n",
       "      <td>2.225996e+08</td>\n",
       "      <td>19.430710</td>\n",
       "      <td>-99.152470</td>\n",
       "      <td>1154.000000</td>\n",
       "      <td>3.000000</td>\n",
       "      <td>26.000000</td>\n",
       "      <td>1.190000</td>\n",
       "      <td>5.000000</td>\n",
       "      <td>363.000000</td>\n",
       "    </tr>\n",
       "    <tr>\n",
       "      <th>max</th>\n",
       "      <td>3.936110e+08</td>\n",
       "      <td>19.555880</td>\n",
       "      <td>-98.963360</td>\n",
       "      <td>350000.000000</td>\n",
       "      <td>1000.000000</td>\n",
       "      <td>558.000000</td>\n",
       "      <td>35.000000</td>\n",
       "      <td>121.000000</td>\n",
       "      <td>365.000000</td>\n",
       "    </tr>\n",
       "  </tbody>\n",
       "</table>\n",
       "</div>"
      ],
      "text/plain": [
       "            host_id      latitude     longitude          price  \\\n",
       "count  2.002100e+04  20021.000000  20021.000000   20021.000000   \n",
       "mean   1.390235e+08     19.398201    -99.167936    1147.452175   \n",
       "std    1.104092e+08      0.046853      0.036492    4076.026767   \n",
       "min    7.365000e+03     19.167530    -99.340570       0.000000   \n",
       "25%    4.292050e+07     19.372270    -99.180600     400.000000   \n",
       "50%    1.140239e+08     19.410770    -99.167940     690.000000   \n",
       "75%    2.225996e+08     19.430710    -99.152470    1154.000000   \n",
       "max    3.936110e+08     19.555880    -98.963360  350000.000000   \n",
       "\n",
       "       minimum_nights  number_of_reviews  reviews_per_month  \\\n",
       "count    20021.000000       20021.000000       20021.000000   \n",
       "mean         4.625144          23.811598           0.891292   \n",
       "std         21.944999          44.769904           1.423224   \n",
       "min          1.000000           0.000000           0.000000   \n",
       "25%          1.000000           0.000000           0.000000   \n",
       "50%          2.000000           5.000000           0.330000   \n",
       "75%          3.000000          26.000000           1.190000   \n",
       "max       1000.000000         558.000000          35.000000   \n",
       "\n",
       "       calculated_host_listings_count  availability_365  \n",
       "count                    20021.000000      20021.000000  \n",
       "mean                         6.600619        226.789271  \n",
       "std                         14.996344        137.048840  \n",
       "min                          1.000000          0.000000  \n",
       "25%                          1.000000         89.000000  \n",
       "50%                          2.000000        269.000000  \n",
       "75%                          5.000000        363.000000  \n",
       "max                        121.000000        365.000000  "
      ]
     },
     "execution_count": 10,
     "metadata": {},
     "output_type": "execute_result"
    }
   ],
   "source": [
    "listings.describe()"
   ]
  },
  {
   "cell_type": "markdown",
   "id": "90e681b2",
   "metadata": {},
   "source": [
    "### Eliminar valores atípicos\n",
    "Se obsevó que las varibales  `price` y `minimum_nights` tienen valores atípicos.\n",
    "- Para la columna precio el 75% de los valores estan por debajo de 1,154.00 pesos muy cerca de la media, pero hay un valor máximo de 350,000.00. pesos. Además esta columna tiene precios con valor cero lo que puede significar que no está disponible el alojamiento. \n",
    "- Para la columna noches minimas el 75% de los valores estan por debajo de las 3 noches y hay un valor máximo de 1000."
   ]
  },
  {
   "cell_type": "code",
   "execution_count": 11,
   "id": "5b864c8d",
   "metadata": {},
   "outputs": [
    {
     "data": {
      "text/plain": [
       "<AxesSubplot:xlabel='price'>"
      ]
     },
     "execution_count": 11,
     "metadata": {},
     "output_type": "execute_result"
    },
    {
     "data": {
      "image/png": "[encoded data removed]",
      "text/plain": [
       "<Figure size 432x288 with 1 Axes>"
      ]
     },
     "metadata": {},
     "output_type": "display_data"
    }
   ],
   "source": [
    "sns.boxplot(x=listings['price'])"
   ]
  },
  {
   "cell_type": "code",
   "execution_count": 12,
   "id": "bf85b347",
   "metadata": {},
   "outputs": [],
   "source": [
    "# Filtrando valores atipicos\n",
    "iqr = listings['price'].quantile(0.75) - listings['price'].quantile(0.25)\n",
    "filtro_inferior = listings['price'] > listings['price'].quantile(0.25) - (iqr * 1.5)\n",
    "filtro_superior = listings['price'] < listings['price'].quantile(0.75) + (iqr * 1.5)\n",
    "\n",
    "listings_filtrado = listings[filtro_inferior & filtro_superior]"
   ]
  },
  {
   "cell_type": "code",
   "execution_count": 13,
   "id": "704a95eb",
   "metadata": {},
   "outputs": [
    {
     "data": {
      "text/plain": [
       "<AxesSubplot:xlabel='price'>"
      ]
     },
     "execution_count": 13,
     "metadata": {},
     "output_type": "execute_result"
    },
    {
     "data": {
      "image/png": "[encoded data removed]",
      "text/plain": [
       "<Figure size 432x288 with 1 Axes>"
      ]
     },
     "metadata": {},
     "output_type": "display_data"
    }
   ],
   "source": [
    "# boxplot de datos filtrados\n",
    "sns.boxplot(x=listings_filtrado['price'])"
   ]
  },
  {
   "cell_type": "code",
   "execution_count": 14,
   "id": "72c3369b",
   "metadata": {},
   "outputs": [
    {
     "data": {
      "text/plain": [
       "(18475, 13)"
      ]
     },
     "execution_count": 14,
     "metadata": {},
     "output_type": "execute_result"
    }
   ],
   "source": [
    "#ELiminar los ceros de la columna de precios\n",
    "mascara_ceros = (listings_filtrado['price'] > 0)\n",
    "listings_filtrado[mascara_ceros].shape\n",
    "listings_filtrado = listings_filtrado[mascara_ceros]\n",
    "listings_filtrado.shape"
   ]
  },
  {
   "cell_type": "code",
   "execution_count": 15,
   "id": "06792c40",
   "metadata": {},
   "outputs": [
    {
     "data": {
      "text/plain": [
       "<AxesSubplot:xlabel='price'>"
      ]
     },
     "execution_count": 15,
     "metadata": {},
     "output_type": "execute_result"
    },
    {
     "data": {
      "image/png": "[encoded data removed]",
      "text/plain": [
       "<Figure size 432x288 with 1 Axes>"
      ]
     },
     "metadata": {},
     "output_type": "display_data"
    }
   ],
   "source": [
    "# boxplot de datos sin los ceros\n",
    "sns.boxplot(x=listings_filtrado['price'])"
   ]
  },
  {
   "cell_type": "markdown",
   "id": "36dee4df",
   "metadata": {},
   "source": [
    "### Paso 4: Guardar los datos filtrados en un nuevo archivo."
   ]
  },
  {
   "cell_type": "code",
   "execution_count": 16,
   "id": "f26f1e12",
   "metadata": {},
   "outputs": [],
   "source": [
    "listings_filtrado.to_csv('../datos/datos_filtrados.csv', header = True, index = False)"
   ]
  },
  {
   "cell_type": "markdown",
   "id": "8037c1d2",
   "metadata": {},
   "source": [
    "## Conclusiones:\n",
    "Al cargar el archivo se tenía 16 columnas con 20,021 observaciones y después de la limpieza y filtrado quedo un total de 12 de columnas y 18,475. Se eliminaron un total de 1546 datos que significa el 7.72% de nuestros. "
   ]
  },
  {
   "cell_type": "code",
   "execution_count": null,
   "id": "cc5e5523",
   "metadata": {},
   "outputs": [],
   "source": []
  }
 ],
 "metadata": {
  "kernelspec": {
   "display_name": "Python 3",
   "language": "python",
   "name": "python3"
  },
  "language_info": {
   "codemirror_mode": {
    "name": "ipython",
    "version": 3
   },
   "file_extension": ".py",
   "mimetype": "text/x-python",
   "name": "python",
   "nbconvert_exporter": "python",
   "pygments_lexer": "ipython3",
   "version": "3.8.8"
  }
 },
 "nbformat": 4,
 "nbformat_minor": 5
}
